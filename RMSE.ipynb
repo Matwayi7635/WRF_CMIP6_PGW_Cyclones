{
 "cells": [
  {
   "cell_type": "code",
   "execution_count": null,
   "id": "1dc705b8",
   "metadata": {},
   "outputs": [],
   "source": [
    "#RSE, R-SQUARE, MAE, MSE, RMSE, MAPE, MPE, MSLE\n",
    "import numpy as np\n",
    "import pandas as pd\n",
    "import matplotlib.pyplot as plt\n",
    "import math\n",
    "from sklearn.linear_model import LinearRegression\n",
    "from sklearn.metrics import mean_squared_error\n",
    "from sklearn.metrics import mean_absolute_error\n",
    "from sklearn.metrics import mean_squared_log_error\n",
    "\n",
    "plt.rcParams['figure.figsize'] = (12.0, 9.0)\n",
    "#data = pd.read_csv('/mnt/g/WRF_Schemes/src/2022/Tracks/Kenneth_22-26_RMSE_Wnd.csv')  # load data set\n",
    "data = pd.read_csv('/mnt/g/WRF_Schemes/src/2022/Tracks/Idai_11-16_RMSE_Wnd.csv')  # load data set\n",
    "print(data)\n",
    "\n",
    "X = data['I'].values.reshape(-1, 1)  # values converts it into a numpy array\n",
    "Y = data['N'].values.reshape(-1, 1)  # -1 means that calculate the dimension of rows, but have 1 column\n",
    "\n",
    "linear_regressor = LinearRegression()  # create object for the class\n",
    "linear_regressor.fit(X, Y)  # perform linear regression\n",
    "plt.show()\n",
    "\n",
    "print('Coefficient is:',linear_regressor.coef_)\n",
    "print('Intercept is:',linear_regressor.intercept_)\n",
    "\n",
    "num_data = X.shape[0]\n",
    "print('num_data::',num_data)    # number of records- 4\n",
    "Y_pred = linear_regressor.predict(X) \n",
    "\n",
    "mse = mean_squared_error(Y,Y_pred)\n",
    "rmse = math.sqrt(mse/num_data)\n",
    "rse = math.sqrt(mse/(num_data-2))\n",
    "rsquare=linear_regressor.score(X,Y)\n",
    "mae=mean_absolute_error(Y,Y_pred)\n",
    "\n",
    "msle=mean_squared_log_error(Y,Y_pred)\n",
    "rmsle = math.sqrt(mean_squared_log_error(Y,Y_pred))\n",
    "\n",
    "mpe=np.mean((Y - Y_pred) / Y) * 100\n",
    "mape =np.mean(np.abs((Y-Y_pred) / Y)) * 100 \n",
    "\n",
    "#RSE, R-SQUARE, MAE, MSE, RMSE, MAPE, MPE, MSLE\n",
    "\n",
    "print('RSE=',rse)\n",
    "print('R-Square=',rsquare)\n",
    "print('rmse=',rmse)\n",
    "print('mae=',mae)\n",
    "print('mpe=',mpe)\n",
    "print('mape=',mape)\n",
    "print('msle=',msle)\n",
    "print('rmsle=',rmsle)\n",
    "#'''"
   ]
  },
  {
   "cell_type": "code",
   "execution_count": null,
   "id": "2f4f46be",
   "metadata": {},
   "outputs": [],
   "source": []
  },
  {
   "cell_type": "code",
   "execution_count": null,
   "id": "e9c3575f",
   "metadata": {},
   "outputs": [],
   "source": []
  }
 ],
 "metadata": {
  "kernelspec": {
   "display_name": "Python 3 (ipykernel)",
   "language": "python",
   "name": "python3"
  },
  "language_info": {
   "codemirror_mode": {
    "name": "ipython",
    "version": 3
   },
   "file_extension": ".py",
   "mimetype": "text/x-python",
   "name": "python",
   "nbconvert_exporter": "python",
   "pygments_lexer": "ipython3",
   "version": "3.9.16"
  }
 },
 "nbformat": 4,
 "nbformat_minor": 5
}
