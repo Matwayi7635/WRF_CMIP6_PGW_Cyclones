{
 "cells": [
  {
   "cell_type": "markdown",
   "metadata": {
    "ExecuteTime": {
     "end_time": "2018-12-11T03:59:22.283286Z",
     "start_time": "2018-12-11T03:59:20.471677Z"
    }
   },
   "source": [
    "Track Comparison between WRF Simulations and IBTrACS.\n",
    "\n",
    "This script is offered as an alternative to the 'CreateTracks.ncl' script.\n",
    "The user needs to go to the 'user inputs' section and enter all the information required. \n",
    "\n",
    "Data for TC track is coming from:\n",
    "\n",
    "    When automatic moving nest is employed in the WRF-real runs, the model dumps the vortex center\n",
    "    location, with minimum mean sea-level pressure and maximum 10 m winds in standard out\n",
    "    file (e.g. rsl.out.0000). Typing:\n",
    "\n",
    "     grep ATCF rsl.out.0000 > ATCF_track.txt \n",
    "\n",
    "    Will produce a list of storm information at 15 minutes intervals and dump them into a text file.\n",
    "    Manually covert them into a .csv for easy importing.\n",
    "\n",
    "Data for the observed TC path comes from IBTrACS. The path for TC Alby has been manually extracted\n",
    "from much a larger IBtracks spatial file that contains info on many many TCs\n",
    "\n",
    "Note: This function requires the installation of 'contextily', which creates a nice basemap\n",
    "\n",
    "    pip install --user contextily\n",
    "\n",
    "This script is written in Jan. 2019 by Chad Burton.\n",
    "The notebook was completed as a part of a graduate program at Geoscience Australia."
   ]
  },
  {
   "cell_type": "markdown",
   "metadata": {},
   "source": [
    "## User Inputs"
   ]
  },
  {
   "cell_type": "code",
   "execution_count": 1,
   "metadata": {
    "ExecuteTime": {
     "end_time": "2019-01-06T22:36:36.182521Z",
     "start_time": "2019-01-06T22:36:36.152108Z"
    }
   },
   "outputs": [],
   "source": [
    "#where is the ATCF track .csv?\n",
    "TC_modelled_path_loc = 'Idai_ATCF_track_11-16.csv' #data/track_data/ATCF_track_alby_nudge_2domRun.csv'\n",
    "#where is IBtracks spatial file?\n",
    "IBtracks_loc = \"Idai.shp\" #data/spatial/alby_pt.shp\"\n",
    "#What attribute would you like to use to colour the plot (Pcentre, MaxWind)?\n",
    "varname='Pcentre'\n",
    "#What title would you like to give the plot and subsequent filename?\n",
    "main_title =  'Idai_track' #alby_nudge_2domRun'\n",
    "#what color ramp would you like?\n",
    "cmap='rainbow'\n",
    "#What should the the minimum value for the colorramp be?\n",
    "vmin=10\n",
    "#What should the the maximum value for the colorramp be?\n",
    "vmax=50\n",
    "#would you like to save the plot (default is False)?\n",
    "export_plot = True\n",
    "#where would you like the saved plot to be exported too?\n",
    "output_loc = \"C:/Users/Aston/Downloads/TC_Alby/TC_Alby/src/results/Idai_track/\" #/nudging_runs/\"\n"
   ]
  },
  {
   "cell_type": "markdown",
   "metadata": {},
   "source": [
    "## plotting function\n",
    "\n",
    "Run the following two cells and you'll have your plot"
   ]
  },
  {
   "cell_type": "code",
   "execution_count": 9,
   "metadata": {
    "ExecuteTime": {
     "end_time": "2019-01-02T23:27:42.659966Z",
     "start_time": "2019-01-02T23:27:26.635090Z"
    }
   },
   "outputs": [
    {
     "ename": "ModuleNotFoundError",
     "evalue": "No module named 'cf'",
     "output_type": "error",
     "traceback": [
      "\u001b[1;31m---------------------------------------------------------------------------\u001b[0m",
      "\u001b[1;31mModuleNotFoundError\u001b[0m                       Traceback (most recent call last)",
      "\u001b[1;32m~\\AppData\\Local\\Temp/ipykernel_27556/186962179.py\u001b[0m in \u001b[0;36m<module>\u001b[1;34m\u001b[0m\n\u001b[0;32m      7\u001b[0m \u001b[1;32mimport\u001b[0m \u001b[0mcartopy\u001b[0m\u001b[1;33m.\u001b[0m\u001b[0mcrs\u001b[0m \u001b[1;32mas\u001b[0m \u001b[0mcrs\u001b[0m\u001b[1;33m\u001b[0m\u001b[1;33m\u001b[0m\u001b[0m\n\u001b[0;32m      8\u001b[0m \u001b[1;32mimport\u001b[0m \u001b[0mcontextily\u001b[0m \u001b[1;32mas\u001b[0m \u001b[0mctx\u001b[0m\u001b[1;33m\u001b[0m\u001b[1;33m\u001b[0m\u001b[0m\n\u001b[1;32m----> 9\u001b[1;33m \u001b[1;32mimport\u001b[0m \u001b[0mcf\u001b[0m\u001b[1;33m,\u001b[0m \u001b[0mcfplot\u001b[0m \u001b[1;32mas\u001b[0m \u001b[0mcfp\u001b[0m\u001b[1;33m\u001b[0m\u001b[1;33m\u001b[0m\u001b[0m\n\u001b[0m",
      "\u001b[1;31mModuleNotFoundError\u001b[0m: No module named 'cf'"
     ]
    }
   ],
   "source": [
    "import pandas as pd\n",
    "import geopandas as gpd\n",
    "import numpy as np\n",
    "from shapely.geometry import Point\n",
    "import matplotlib.pyplot as plt\n",
    "from matplotlib.cm import get_cmap\n",
    "import cartopy.crs as crs\n",
    "import contextily as ctx\n",
    "import cf, cfplot as cfp"
   ]
  },
  {
   "cell_type": "code",
   "execution_count": 8,
   "metadata": {
    "ExecuteTime": {
     "end_time": "2019-01-02T23:40:15.431107Z",
     "start_time": "2019-01-02T23:40:12.316115Z"
    },
    "scrolled": false
   },
   "outputs": [
    {
     "ename": "AttributeError",
     "evalue": "'GeoDataFrame' object has no attribute 'lineplot'",
     "output_type": "error",
     "traceback": [
      "\u001b[1;31m---------------------------------------------------------------------------\u001b[0m",
      "\u001b[1;31mAttributeError\u001b[0m                            Traceback (most recent call last)",
      "\u001b[1;32m~\\AppData\\Local\\Temp/ipykernel_27556/1973296532.py\u001b[0m in \u001b[0;36m<module>\u001b[1;34m\u001b[0m\n\u001b[0;32m     77\u001b[0m         \u001b[0mplt\u001b[0m\u001b[1;33m.\u001b[0m\u001b[0msavefig\u001b[0m\u001b[1;33m(\u001b[0m\u001b[0moutput_loc\u001b[0m \u001b[1;33m+\u001b[0m \u001b[0mmain_title\u001b[0m \u001b[1;33m+\u001b[0m \u001b[1;34m\"_\"\u001b[0m \u001b[1;33m+\u001b[0m \u001b[0mvarname\u001b[0m \u001b[1;33m+\u001b[0m \u001b[1;34m\".tiff\"\u001b[0m\u001b[1;33m,\u001b[0m \u001b[0mbbox_inches\u001b[0m\u001b[1;33m=\u001b[0m\u001b[1;34m'tight'\u001b[0m\u001b[1;33m)\u001b[0m\u001b[1;33m\u001b[0m\u001b[1;33m\u001b[0m\u001b[0m\n\u001b[0;32m     78\u001b[0m         \u001b[0mplt\u001b[0m\u001b[1;33m.\u001b[0m\u001b[0msavefig\u001b[0m\u001b[1;33m(\u001b[0m\u001b[0moutput_loc\u001b[0m \u001b[1;33m+\u001b[0m \u001b[0mmain_title\u001b[0m \u001b[1;33m+\u001b[0m \u001b[1;34m\"_\"\u001b[0m \u001b[1;33m+\u001b[0m \u001b[0mvarname\u001b[0m \u001b[1;33m+\u001b[0m \u001b[1;34m\".pdf\"\u001b[0m\u001b[1;33m,\u001b[0m \u001b[0mbbox_inches\u001b[0m\u001b[1;33m=\u001b[0m\u001b[1;34m'tight'\u001b[0m\u001b[1;33m)\u001b[0m\u001b[1;33m\u001b[0m\u001b[1;33m\u001b[0m\u001b[0m\n\u001b[1;32m---> 79\u001b[1;33m trackComparisons(TC_modelled_path_loc = TC_modelled_path_loc,\n\u001b[0m\u001b[0;32m     80\u001b[0m                   \u001b[0mIBtracks_loc\u001b[0m \u001b[1;33m=\u001b[0m \u001b[0mIBtracks_loc\u001b[0m\u001b[1;33m,\u001b[0m\u001b[1;33m\u001b[0m\u001b[1;33m\u001b[0m\u001b[0m\n\u001b[0;32m     81\u001b[0m                   \u001b[0mvarname\u001b[0m\u001b[1;33m=\u001b[0m\u001b[0mvarname\u001b[0m\u001b[1;33m,\u001b[0m\u001b[1;33m\u001b[0m\u001b[1;33m\u001b[0m\u001b[0m\n",
      "\u001b[1;32m~\\AppData\\Local\\Temp/ipykernel_27556/1973296532.py\u001b[0m in \u001b[0;36mtrackComparisons\u001b[1;34m(TC_modelled_path_loc, IBtracks_loc, varname, main_title, output_loc, cmap, export_plot)\u001b[0m\n\u001b[0;32m     35\u001b[0m     \u001b[1;31m#create the plots for the two TC paths\u001b[0m\u001b[1;33m\u001b[0m\u001b[1;33m\u001b[0m\u001b[1;33m\u001b[0m\u001b[0m\n\u001b[0;32m     36\u001b[0m     \u001b[0max\u001b[0m \u001b[1;33m=\u001b[0m \u001b[0mobs_path\u001b[0m\u001b[1;33m.\u001b[0m\u001b[0mplot\u001b[0m\u001b[1;33m(\u001b[0m\u001b[0mfigsize\u001b[0m\u001b[1;33m=\u001b[0m\u001b[1;33m(\u001b[0m\u001b[1;36m13\u001b[0m\u001b[1;33m,\u001b[0m \u001b[1;36m10\u001b[0m\u001b[1;33m)\u001b[0m\u001b[1;33m,\u001b[0m \u001b[0mmarkersize\u001b[0m\u001b[1;33m=\u001b[0m\u001b[1;36m20\u001b[0m\u001b[1;33m,\u001b[0m \u001b[0mcolumn\u001b[0m\u001b[1;33m=\u001b[0m\u001b[0mvarname\u001b[0m\u001b[1;33m,\u001b[0m \u001b[0mcmap\u001b[0m\u001b[1;33m=\u001b[0m\u001b[0mcmap\u001b[0m \u001b[1;33m,\u001b[0m\u001b[0mvmin\u001b[0m\u001b[1;33m=\u001b[0m\u001b[0mvmin\u001b[0m\u001b[1;33m,\u001b[0m \u001b[0mvmax\u001b[0m\u001b[1;33m=\u001b[0m\u001b[0mvmax\u001b[0m\u001b[1;33m)\u001b[0m\u001b[1;33m\u001b[0m\u001b[1;33m\u001b[0m\u001b[0m\n\u001b[1;32m---> 37\u001b[1;33m     \u001b[0mmodel_path\u001b[0m\u001b[1;33m.\u001b[0m\u001b[0mlineplot\u001b[0m\u001b[1;33m(\u001b[0m\u001b[0max\u001b[0m\u001b[1;33m=\u001b[0m\u001b[0max\u001b[0m\u001b[1;33m,\u001b[0m\u001b[0mcolumn\u001b[0m\u001b[1;33m=\u001b[0m\u001b[0mvarname\u001b[0m\u001b[1;33m,\u001b[0m \u001b[0mmarkersize\u001b[0m\u001b[1;33m=\u001b[0m\u001b[1;36m8\u001b[0m\u001b[1;33m,\u001b[0m \u001b[0mcmap\u001b[0m\u001b[1;33m=\u001b[0m\u001b[0mcmap\u001b[0m\u001b[1;33m,\u001b[0m\u001b[0mvmin\u001b[0m\u001b[1;33m=\u001b[0m\u001b[0mvmin\u001b[0m\u001b[1;33m,\u001b[0m \u001b[0mvmax\u001b[0m\u001b[1;33m=\u001b[0m\u001b[0mvmax\u001b[0m\u001b[1;33m)\u001b[0m\u001b[1;33m\u001b[0m\u001b[1;33m\u001b[0m\u001b[0m\n\u001b[0m\u001b[0;32m     38\u001b[0m \u001b[1;33m\u001b[0m\u001b[0m\n\u001b[0;32m     39\u001b[0m     '''## extract lat and lon info from pandas data frame and convert to map scale\n",
      "\u001b[1;32m~\\anaconda3\\lib\\site-packages\\pandas\\core\\generic.py\u001b[0m in \u001b[0;36m__getattr__\u001b[1;34m(self, name)\u001b[0m\n\u001b[0;32m   5485\u001b[0m         ):\n\u001b[0;32m   5486\u001b[0m             \u001b[1;32mreturn\u001b[0m \u001b[0mself\u001b[0m\u001b[1;33m[\u001b[0m\u001b[0mname\u001b[0m\u001b[1;33m]\u001b[0m\u001b[1;33m\u001b[0m\u001b[1;33m\u001b[0m\u001b[0m\n\u001b[1;32m-> 5487\u001b[1;33m         \u001b[1;32mreturn\u001b[0m \u001b[0mobject\u001b[0m\u001b[1;33m.\u001b[0m\u001b[0m__getattribute__\u001b[0m\u001b[1;33m(\u001b[0m\u001b[0mself\u001b[0m\u001b[1;33m,\u001b[0m \u001b[0mname\u001b[0m\u001b[1;33m)\u001b[0m\u001b[1;33m\u001b[0m\u001b[1;33m\u001b[0m\u001b[0m\n\u001b[0m\u001b[0;32m   5488\u001b[0m \u001b[1;33m\u001b[0m\u001b[0m\n\u001b[0;32m   5489\u001b[0m     \u001b[1;32mdef\u001b[0m \u001b[0m__setattr__\u001b[0m\u001b[1;33m(\u001b[0m\u001b[0mself\u001b[0m\u001b[1;33m,\u001b[0m \u001b[0mname\u001b[0m\u001b[1;33m:\u001b[0m \u001b[0mstr\u001b[0m\u001b[1;33m,\u001b[0m \u001b[0mvalue\u001b[0m\u001b[1;33m)\u001b[0m \u001b[1;33m->\u001b[0m \u001b[1;32mNone\u001b[0m\u001b[1;33m:\u001b[0m\u001b[1;33m\u001b[0m\u001b[1;33m\u001b[0m\u001b[0m\n",
      "\u001b[1;31mAttributeError\u001b[0m: 'GeoDataFrame' object has no attribute 'lineplot'"
     ]
    },
    {
     "data": {
      "image/png": "[encoded data removed]",
      "text/plain": [
       "<Figure size 936x720 with 1 Axes>"
      ]
     },
     "metadata": {
      "needs_background": "light"
     },
     "output_type": "display_data"
    }
   ],
   "source": [
    "def trackComparisons(TC_modelled_path_loc, IBtracks_loc, varname,\n",
    "                     main_title, output_loc, cmap='plasma', export_plot = False):\n",
    "    \"\"\"\n",
    "    This function plots the WRF TC path against the plot in IBtracks\n",
    "    \"\"\"\n",
    "    #bring in shapefile of IBTracks path\n",
    "    obs_path = gpd.read_file(IBtracks_loc)\n",
    "    #bring in the path from the modelled TC\n",
    "    model_path = pd.read_csv(TC_modelled_path_loc, header=None, names=[\"NAME\", \"datetime\", \"lat\", \"long\", \"Pcentre\", \"MaxWind\"])\n",
    "    model_path = model_path.drop(columns=['NAME']) #drop the useless column\n",
    "    #convert the windspeed to m/s (currently in knots) #original~ model_path['MaxWind'] = model_path['MaxWind']*0.51444\n",
    "    model_path['MaxWind'] = model_path['MaxWind']*0.51444\n",
    "    #get the extent of the modelled path to use for plotting\n",
    "    xmin, xmax, ymin, ymax  = model_path['long'].min()-5, model_path['long'].max()+15,  model_path['lat'].min()-7, model_path['lat'].max()+7                       \n",
    "    ##xmin, xmax, ymin, ymax  = (float(model_path['long'].min()-5, (float(model_path['long'].max()+15,  (float(model_path['lat'].min()-7, (float(model_path['lat'].max()+7\n",
    "    #turn the model_path dataframe into a spatial object\n",
    "    geometry = [Point(xy) for xy in zip(model_path.long, model_path.lat)]\n",
    "    model_path = model_path.drop(['long', 'lat'], axis=1)\n",
    "    crs = obs_path.crs\n",
    "    model_path = gpd.GeoDataFrame(model_path, crs=crs, geometry=geometry)\n",
    "     \n",
    "    #convert projection of TC paths so they play nice with our basemap\n",
    "    obs_path = obs_path.to_crs(epsg=3857)\n",
    "    model_path = model_path.to_crs(epsg=3857)\n",
    "    \n",
    "    #helper function for generating basemap\n",
    "    def add_basemap(ax, zoom, url='http://tile.stamen.com/terrain/tileZ/tileX/tileY.png'):\n",
    "        xmin, xmax, ymin, ymax = ax.axis()\n",
    "        xmin, xmax, ymin, ymax = xmin-10, xmax+15, ymin-7, ymax+7\n",
    "        basemap, extent = ctx.bounds2img(xmin, ymin, xmax, ymax, zoom=zoom, url=url)\n",
    "        ax.imshow(basemap, extent=extent, interpolation='bilinear')\n",
    "        # restore original x/y limits\n",
    "        ax.axis((xmin, xmax, ymin, ymax))\n",
    "    \n",
    "    #create the plots for the two TC paths\n",
    "    ax = obs_path.plot(figsize=(13, 10), markersize=20, column=varname, cmap=cmap ,vmin=vmin, vmax=vmax)\n",
    "    model_path.lineplot(ax=ax,column=varname, markersize=8, cmap=cmap,vmin=vmin, vmax=vmax)\n",
    "    \n",
    "    '''## extract lat and lon info from pandas data frame and convert to map scale\n",
    "    lons = model_path['lon'].values\n",
    "    lats = model_path['lat'].values\n",
    "    x, y = m(lons, lats)\n",
    "\n",
    "    ## plot the track\n",
    "    m.plot(x, y,'o-') #,color=colors[jj],ms=4, zorder=4,label=f\"TRACK {jj} ({year})\") \n",
    "    \n",
    "    \n",
    "    '''\n",
    "    \n",
    "    #plt.plot(model_path,obs_path, marker = 'o-', ms = 20)\n",
    "    \n",
    "    #create a colorbar for the TC paths to share\n",
    "    sm = plt.cm.ScalarMappable(cmap=cmap, norm=plt.Normalize(vmin=vmin, vmax=vmax))\n",
    "    sm._A = []\n",
    "    cb=plt.colorbar(sm, shrink=0.75,  orientation='horizontal')\n",
    "    \n",
    "    #create the basemap\n",
    "    #add_basemap(ax, zoom= 6, url=ctx.sources.ST_TERRAIN)\n",
    "    ctx.add_basemap(ax, crs=obs_path.crs.to_string(), zoom=10, attribution=\"\", source=ctx.providers.OpenStreetMap.Mapnik) #source=ctx.providers.Stamen.Terrain) #OpenStreetMap.Mapnik) #Stamen.Terrain\n",
    "    #source=ctx.providers.Stamen.Terrain )#url = ctx.providers.OpenStreetMap.Mapnik) #source=ctx.url.ST_TERRAIN) #url=ctx.sources.ST_TERRAIN) #source=ctx.providers.Stamen.TonerLite)\n",
    "    \n",
    "    ## Modify the attribution (Remove copyright at the bottom left, set ....attribution=\"\" )\n",
    "    ##ctx.add_basemap(ax, zoom=11, attribution=\"Travel time data by Digital Geography Lab, Map Data © OpenStreetMap contributors\", url=ctx.tile_providers.OSM_A)\n",
    "    \n",
    "    #tidy the plot\n",
    "    ax.set_axis_off()\n",
    "    plt.title(\"Model vs Obs.  Track, \" + varname + \": \" + main_title, fontsize=18)\n",
    "    plt.tight_layout()\n",
    "    \n",
    "    cb.set_label('Wind Speed m/s', fontsize=10)\n",
    "    #cb.set_label('SST $^\\circ$C', fontsize=7)\n",
    "    \n",
    "    #export plot it that what the user wants\n",
    "    if export_plot == True:\n",
    "        plt.savefig(output_loc + main_title + \"_\" + varname + \".png\", bbox_inches='tight')\n",
    "        plt.savefig(output_loc + main_title + \"_\" + varname + \".svg\", bbox_inches='tight')\n",
    "        plt.savefig(output_loc + main_title + \"_\" + varname + \".tiff\", bbox_inches='tight')\n",
    "        plt.savefig(output_loc + main_title + \"_\" + varname + \".pdf\", bbox_inches='tight')\n",
    "trackComparisons(TC_modelled_path_loc = TC_modelled_path_loc,\n",
    "                  IBtracks_loc = IBtracks_loc,\n",
    "                  varname=varname,\n",
    "                  main_title = main_title,\n",
    "                  output_loc = output_loc,\n",
    "                  cmap=cmap,\n",
    "                  export_plot = export_plot)"
   ]
  },
  {
   "cell_type": "code",
   "execution_count": null,
   "metadata": {
    "ExecuteTime": {
     "end_time": "2019-01-03T00:14:29.538113Z",
     "start_time": "2019-01-03T00:14:29.349636Z"
    }
   },
   "outputs": [],
   "source": []
  },
  {
   "cell_type": "code",
   "execution_count": null,
   "metadata": {
    "ExecuteTime": {
     "end_time": "2019-01-06T22:36:41.747683Z",
     "start_time": "2019-01-06T22:36:40.869590Z"
    }
   },
   "outputs": [],
   "source": []
  },
  {
   "cell_type": "code",
   "execution_count": null,
   "metadata": {
    "ExecuteTime": {
     "end_time": "2019-01-06T22:47:31.489660Z",
     "start_time": "2019-01-06T22:47:31.404145Z"
    },
    "scrolled": false
   },
   "outputs": [],
   "source": []
  },
  {
   "cell_type": "code",
   "execution_count": null,
   "metadata": {},
   "outputs": [],
   "source": []
  },
  {
   "cell_type": "code",
   "execution_count": null,
   "metadata": {},
   "outputs": [],
   "source": []
  }
 ],
 "metadata": {
  "kernelspec": {
   "display_name": "Python 3 (ipykernel)",
   "language": "python",
   "name": "python3"
  },
  "language_info": {
   "codemirror_mode": {
    "name": "ipython",
    "version": 3
   },
   "file_extension": ".py",
   "mimetype": "text/x-python",
   "name": "python",
   "nbconvert_exporter": "python",
   "pygments_lexer": "ipython3",
   "version": "3.8.8"
  },
  "toc": {
   "nav_menu": {},
   "number_sections": true,
   "sideBar": true,
   "skip_h1_title": false,
   "toc_cell": false,
   "toc_position": {},
   "toc_section_display": "block",
   "toc_window_display": true
  }
 },
 "nbformat": 4,
 "nbformat_minor": 2
}
