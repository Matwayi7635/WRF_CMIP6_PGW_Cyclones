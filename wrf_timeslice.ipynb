{
 "cells": [
  {
   "cell_type": "code",
   "execution_count": 1,
   "id": "b618a1c5",
   "metadata": {
    "scrolled": true
   },
   "outputs": [
    {
     "ename": "FileNotFoundError",
     "evalue": "[Errno 2] No such file or directory: b'/mnt/g/ERA_5_wspd_slp/wrf_schemes_d01/wrfout_d01_01.nc'",
     "output_type": "error",
     "traceback": [
      "\u001b[0;31m---------------------------------------------------------------------------\u001b[0m",
      "\u001b[0;31mFileNotFoundError\u001b[0m                         Traceback (most recent call last)",
      "\u001b[0;32m/tmp/ipykernel_2039/2996524662.py\u001b[0m in \u001b[0;36m<module>\u001b[0;34m\u001b[0m\n\u001b[1;32m     32\u001b[0m     \u001b[0;31m#ax=fig.add_subplot(4,3,ivents, projection=ccrs.PlateCarree())\u001b[0m\u001b[0;34m\u001b[0m\u001b[0;34m\u001b[0m\u001b[0;34m\u001b[0m\u001b[0m\n\u001b[1;32m     33\u001b[0m     \u001b[0;31m#ax.set_extent([20.,120.,-50., 5.], crs=ccrs.PlateCarree())\u001b[0m\u001b[0;34m\u001b[0m\u001b[0;34m\u001b[0m\u001b[0;34m\u001b[0m\u001b[0m\n\u001b[0;32m---> 34\u001b[0;31m     \u001b[0mnc\u001b[0m\u001b[0;34m=\u001b[0m\u001b[0mDataset\u001b[0m\u001b[0;34m(\u001b[0m\u001b[0mdir_data\u001b[0m\u001b[0;34m+\u001b[0m\u001b[0;34m'wrfout_d01_'\u001b[0m\u001b[0;34m+\u001b[0m\u001b[0;34m'{:02d}'\u001b[0m\u001b[0;34m.\u001b[0m\u001b[0mformat\u001b[0m\u001b[0;34m(\u001b[0m\u001b[0mivents\u001b[0m\u001b[0;34m)\u001b[0m\u001b[0;34m+\u001b[0m\u001b[0;34m'.nc'\u001b[0m\u001b[0;34m)\u001b[0m\u001b[0;34m\u001b[0m\u001b[0;34m\u001b[0m\u001b[0m\n\u001b[0m\u001b[1;32m     35\u001b[0m     \u001b[0;31m#\u001b[0m\u001b[0;34m\u001b[0m\u001b[0;34m\u001b[0m\u001b[0;34m\u001b[0m\u001b[0m\n\u001b[1;32m     36\u001b[0m     \u001b[0mt2m\u001b[0m \u001b[0;34m=\u001b[0m \u001b[0mwrf\u001b[0m\u001b[0;34m.\u001b[0m\u001b[0mgetvar\u001b[0m\u001b[0;34m(\u001b[0m\u001b[0mnc\u001b[0m\u001b[0;34m,\u001b[0m \u001b[0;34m'T2'\u001b[0m\u001b[0;34m,\u001b[0m \u001b[0mtimeidx\u001b[0m\u001b[0;34m=\u001b[0m\u001b[0;36m37\u001b[0m\u001b[0;34m,\u001b[0m \u001b[0mmethod\u001b[0m\u001b[0;34m=\u001b[0m\u001b[0;34m\"join\"\u001b[0m\u001b[0;34m,\u001b[0m \u001b[0msqueeze\u001b[0m\u001b[0;34m=\u001b[0m\u001b[0;32mFalse\u001b[0m\u001b[0;34m)\u001b[0m \u001b[0;31m# extract 3rd time instance (t=2) - slow..\u001b[0m\u001b[0;34m\u001b[0m\u001b[0;34m\u001b[0m\u001b[0m\n",
      "\u001b[0;32mnetCDF4/_netCDF4.pyx\u001b[0m in \u001b[0;36mnetCDF4._netCDF4.Dataset.__init__\u001b[0;34m()\u001b[0m\n",
      "\u001b[0;32mnetCDF4/_netCDF4.pyx\u001b[0m in \u001b[0;36mnetCDF4._netCDF4._ensure_nc_success\u001b[0;34m()\u001b[0m\n",
      "\u001b[0;31mFileNotFoundError\u001b[0m: [Errno 2] No such file or directory: b'/mnt/g/ERA_5_wspd_slp/wrf_schemes_d01/wrfout_d01_01.nc'"
     ]
    },
    {
     "data": {
      "text/plain": [
       "<Figure size 1080x720 with 0 Axes>"
      ]
     },
     "metadata": {},
     "output_type": "display_data"
    }
   ],
   "source": [
    "#!/usr/bin/env python\n",
    "# coding: utf-8\n",
    "from netCDF4 import Dataset\n",
    "import wrf\n",
    "import xarray as xr\n",
    "import numpy as np\n",
    "import cartopy.crs as ccrs\n",
    "import matplotlib\n",
    "from matplotlib.cm import get_cmap\n",
    "import matplotlib.pyplot as plt\n",
    "import cartopy.feature as cfe\n",
    "\n",
    "get_ipython().run_line_magic('matplotlib', 'inline')\n",
    "#root_dir = '/mnt/f/CCRC_22_DES/Analysis/ERA_uv_sp/'\n",
    "#root_dir ='/mnt/g/ERA_5_wspd_slp/'\n",
    "dir_data ='/mnt/g/ERA_5_wspd_slp/wrf_schemes_d01/'\n",
    "#nc = Dataset(dir_data+'wrfout_d01_02.nc') #\n",
    "\n",
    "##times_ws = ['2019-03-14T15:00', '2019-03-14T18:00', '2019-04-25T12:00', '2019-04-25T15:00']\n",
    "#times_ws = ['2019-03-14T15:00', '2019-03-14T18:00', '2019-03-14T21:00', '2019-03-15T00:00'] \n",
    "#times_ws = ['2019-04-25T06:00', '2019-04-25T09:00', '2019-04-25T12:00', '2019-04-25T15:00']\n",
    "# t2 = wrf.getvar(nc, 'T2', timeidx=wrf.ALL_TIMES)\n",
    "#t2 = wrf.getvar(nc, 'T2', timeidx=time_ws) # extract 3rd time instance (t=2) - slow....\n",
    "# select one time instance if you have retrieved ALL_TIMES\n",
    "# t2 = t2.isel(Time=1)\n",
    "\n",
    "#times_ws = ['2019-03-14T15:00', '2019-04-25T15:00']\n",
    "scheme_name=[\"(a) Era 2019-03-15T00:00\",\"(b) Era 2019-04-25T15:00\",\"(c) Era 2019-03-13T00:00\",\"(d) Era 2019-04-21T15:00\"] #\"\n",
    "\n",
    "fig=plt.figure(figsize=(15,10)) #, dpi=200)\n",
    "for ivents in np.arange(1,2):  # loop over 2 events \n",
    "    #ax=fig.add_subplot(4,3,ivents, projection=ccrs.PlateCarree())   \n",
    "    #ax.set_extent([20.,120.,-50., 5.], crs=ccrs.PlateCarree())\n",
    "    nc=Dataset(dir_data+'wrfout_d01_'+'{:02d}'.format(ivents)+'.nc')\n",
    "    #\n",
    "    t2m = wrf.getvar(nc, 'T2', timeidx=37, method=\"join\", squeeze=False) # extract 3rd time instance (t=2) - slow..\n",
    "    #t2 method=\"join\", squeeze=False\n",
    "    print(t2m) "
   ]
  },
  {
   "cell_type": "code",
   "execution_count": 4,
   "id": "1a4e0340",
   "metadata": {},
   "outputs": [
    {
     "ename": "FileNotFoundError",
     "evalue": "[Errno 2] No such file or directory: b'/mnt/g/ERA_5_wspd_slp/wrf_schemes_d01/wrfout_d01_01.nc'",
     "output_type": "error",
     "traceback": [
      "\u001b[0;31m---------------------------------------------------------------------------\u001b[0m",
      "\u001b[0;31mFileNotFoundError\u001b[0m                         Traceback (most recent call last)",
      "\u001b[0;32m/tmp/ipykernel_2039/1618119590.py\u001b[0m in \u001b[0;36m<module>\u001b[0;34m\u001b[0m\n\u001b[1;32m     34\u001b[0m     \u001b[0;31m#ax.set_extent([20.,120.,-50., 5.], crs=ccrs.PlateCarree())\u001b[0m\u001b[0;34m\u001b[0m\u001b[0;34m\u001b[0m\u001b[0;34m\u001b[0m\u001b[0m\n\u001b[1;32m     35\u001b[0m     \u001b[0;31m#fic=dir_data+'SLP_WNSD_'+'{:02d}'.format(ivents)+'.nc'\u001b[0m\u001b[0;34m\u001b[0m\u001b[0;34m\u001b[0m\u001b[0;34m\u001b[0m\u001b[0m\n\u001b[0;32m---> 36\u001b[0;31m     \u001b[0mnc\u001b[0m\u001b[0;34m=\u001b[0m\u001b[0mDataset\u001b[0m\u001b[0;34m(\u001b[0m\u001b[0mdir_data\u001b[0m\u001b[0;34m+\u001b[0m\u001b[0;34m'wrfout_d01_'\u001b[0m\u001b[0;34m+\u001b[0m\u001b[0;34m'{:02d}'\u001b[0m\u001b[0;34m.\u001b[0m\u001b[0mformat\u001b[0m\u001b[0;34m(\u001b[0m\u001b[0mivents\u001b[0m\u001b[0;34m)\u001b[0m\u001b[0;34m+\u001b[0m\u001b[0;34m'.nc'\u001b[0m\u001b[0;34m)\u001b[0m\u001b[0;34m\u001b[0m\u001b[0;34m\u001b[0m\u001b[0m\n\u001b[0m\u001b[1;32m     37\u001b[0m     \u001b[0;31m#\u001b[0m\u001b[0;34m\u001b[0m\u001b[0;34m\u001b[0m\u001b[0;34m\u001b[0m\u001b[0m\n\u001b[1;32m     38\u001b[0m     \u001b[0;31m#t2m = wrf.getvar(nc, 'Times', timeidx=[37,38], method=\"cat\") # extract 3rd time instance (t=2) - slow..\u001b[0m\u001b[0;34m\u001b[0m\u001b[0;34m\u001b[0m\u001b[0;34m\u001b[0m\u001b[0m\n",
      "\u001b[0;32mnetCDF4/_netCDF4.pyx\u001b[0m in \u001b[0;36mnetCDF4._netCDF4.Dataset.__init__\u001b[0;34m()\u001b[0m\n",
      "\u001b[0;32mnetCDF4/_netCDF4.pyx\u001b[0m in \u001b[0;36mnetCDF4._netCDF4._ensure_nc_success\u001b[0;34m()\u001b[0m\n",
      "\u001b[0;31mFileNotFoundError\u001b[0m: [Errno 2] No such file or directory: b'/mnt/g/ERA_5_wspd_slp/wrf_schemes_d01/wrfout_d01_01.nc'"
     ]
    },
    {
     "data": {
      "text/plain": [
       "<Figure size 1080x720 with 0 Axes>"
      ]
     },
     "metadata": {},
     "output_type": "display_data"
    }
   ],
   "source": [
    "#!/usr/bin/env python\n",
    "# coding: utf-8\n",
    "from netCDF4 import Dataset\n",
    "import wrf\n",
    "import xarray as xr\n",
    "import numpy as np\n",
    "import cartopy.crs as ccrs\n",
    "import matplotlib\n",
    "from matplotlib.cm import get_cmap\n",
    "import matplotlib.pyplot as plt\n",
    "import cartopy.feature as cfe\n",
    "\n",
    "get_ipython().run_line_magic('matplotlib', 'inline')\n",
    "#root_dir = '/mnt/f/CCRC_22_DES/Analysis/ERA_uv_sp/'\n",
    "#root_dir ='/mnt/g/ERA_5_wspd_slp/'\n",
    "dir_data ='/mnt/g/ERA_5_wspd_slp/wrf_schemes_d01/'\n",
    "#nc = Dataset(dir_data+'wrfout_d01_02.nc') #\n",
    "\n",
    "##times_ws = ['2019-03-14T15:00', '2019-03-14T18:00', '2019-04-25T12:00', '2019-04-25T15:00']\n",
    "#times_ws = ['2019-03-14T15:00', '2019-03-14T18:00', '2019-03-14T21:00', '2019-03-15T00:00'] \n",
    "#times_ws = ['2019-04-25T06:00', '2019-04-25T09:00', '2019-04-25T12:00', '2019-04-25T15:00']\n",
    "# t2 = wrf.getvar(nc, 'T2', timeidx=wrf.ALL_TIMES)\n",
    "#t2 = wrf.getvar(nc, 'T2', timeidx=time_ws) # extract 3rd time instance (t=2) - slow....\n",
    "# select one time instance if you have retrieved ALL_TIMES\n",
    "# t2 = t2.isel(Time=1)\n",
    "\n",
    "#times_ws = ['2019-03-14T15:00', '2019-04-25T15:00']\n",
    "scheme_name=[\"(a) Era 2019-03-15T00:00\",\"(b) Era 2019-04-25T15:00\",\"(c) Era 2019-03-13T00:00\",\"(d) Era 2019-04-21T15:00\"] #\"\n",
    "\n",
    "fig=plt.figure(figsize=(15,10)) #, dpi=200)\n",
    "for ivents in np.arange(1,2):  # loop over 2 events \n",
    "    #ax=fig.add_subplot(4,3,ivents, projection=ccrs.PlateCarree())   \n",
    "    #ax.set_extent([19, 99, -30, 25])# ccrs.PlateCarree())\n",
    "    #ax.set_extent([20.,120.,-50., 5.], crs=ccrs.PlateCarree())\n",
    "    #fic=dir_data+'SLP_WNSD_'+'{:02d}'.format(ivents)+'.nc'\n",
    "    nc=Dataset(dir_data+'wrfout_d01_'+'{:02d}'.format(ivents)+'.nc')\n",
    "    #\n",
    "    #t2m = wrf.getvar(nc, 'Times', timeidx=[37,38], method=\"cat\") # extract 3rd time instance (t=2) - slow..\n",
    "    ####################\n",
    "    #getting time data from a variable to use for labelling plots\n",
    "    #This means the user can enter a time of interest rather\n",
    "    #than an index integer - more intuitive.\n",
    "    ####################\n",
    "    #p = wrf.getvar(nc, \"pressure\", timeidx=wrf.ALL_TIMES, method=\"cat\")\n",
    "    # select one time instance if you have retrieved ALL_TIMES\n",
    "    #p = p.isel(Time=1)\n",
    "    print(nc)\n",
    "    '''\n",
    "    #time = ['2019-03-14T15:00', '2019-04-25T15:00']\n",
    "    \n",
    "    #time_slp = time\n",
    "    #time_gph = time\n",
    "    #time_vert = time\n",
    "    #time_vort = time\n",
    "\n",
    "        #grabbing any variable that will load reasaonably quickly\n",
    "    #ncfile = ncfile_path  #Dataset(ncfile_path)\n",
    "    \n",
    "    #p = wrf.getvar(ncfile, 'pressure', timeidx=2)\n",
    "    #getting the time dimension\n",
    "    times=[]\n",
    "\n",
    "    for i in range(0, len(p.Time)):\n",
    "        x = str(p.Time[i].values)[:16] #[16]\n",
    "        times.append(x)\n",
    "    print (x) \n",
    "    #''\n",
    "    #convert the time strings into indexes for slicing later\n",
    "    #time_slice_1 = times.index(time_slp)\n",
    "    #time_slice_2 = times.index(time_gph)\n",
    "    #time_slice_3 = times.index(time_vert)\n",
    "    #time_slice_4 = times.index(time_vort)\n",
    "\n",
    "    print (times)#t2 method=\"join\", squeeze=False\n",
    "    #t2m \n",
    "    \n",
    "    #''for i in range(0, len(t2m.Time)):\n",
    "    #    x = str(t2m.Time[i].values)[:16] #[16]\n",
    "    #    times.append(x)    \n",
    "    #print (x)\n",
    "    times_ws = ['2019-03-11T00:00', '2019-03-11T03:00']\n",
    "    t1, t2= times.index(times_ws[0]), times.index(times_ws[1])\n",
    "    times_slice_ws = [t1,t2]\n",
    "    #t2m = wrf.getvar(ds, 'T2', timeidx=times_slice_ws) #, method=\"cat\")\n",
    "    print(times_slice_ws)\n",
    "    #'\n",
    "    #print(t2m)\n",
    "    '''"
   ]
  },
  {
   "cell_type": "code",
   "execution_count": null,
   "id": "077b23c6",
   "metadata": {},
   "outputs": [],
   "source": []
  }
 ],
 "metadata": {
  "kernelspec": {
   "display_name": "Python 3 (ipykernel)",
   "language": "python",
   "name": "python3"
  },
  "language_info": {
   "codemirror_mode": {
    "name": "ipython",
    "version": 3
   },
   "file_extension": ".py",
   "mimetype": "text/x-python",
   "name": "python",
   "nbconvert_exporter": "python",
   "pygments_lexer": "ipython3",
   "version": "3.8.8"
  }
 },
 "nbformat": 4,
 "nbformat_minor": 5
}
